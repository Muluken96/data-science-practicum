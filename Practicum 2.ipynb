{
 "cells": [
  {
   "cell_type": "markdown",
   "metadata": {
    "id": "fzo5Ay8V8fd-"
   },
   "source": [
    "<a id='top'></a>\n",
    "\n",
    "# CSCI 3022: Intro to Data Science - Spring 2021 Practicum 2\n",
    "***\n",
    "\n",
    "\n",
    "**Here are the rules:** \n",
    "\n",
    "1. All work, code and analysis, must be your own. \n",
    "2. You may use your course notes, posted lecture slides, textbooks, in-class notebooks, and homework solutions as resources.  You may also search online for answers to general knowledge questions like the form of a probability distribution function or how to perform a particular operation in Python/Pandas. \n",
    "3. This is meant to be like a coding portion of your midterm exam. So, the instructional team will be a bit less helpful than we typically are with homework. For example, we will not check answers, significantly debug your code, and so on.  But please don't feel like you're totally alone on this: **feel free to ask questions or ask for help**, and we will decide how best to provide that assistance.\n",
    "4. If something is left open-ended, it is because we want to see how you approach the kinds of problems you will encounter in the wild, where it will not always be clear what sort of tests/methods should be applied. Feel free to ask clarifying questions though.\n",
    "5. You may **NOT** post to message boards or other online resources asking for help, except Piazza.\n",
    "6. You may **NOT** copy-paste solutions *from anywhere*.\n",
    "7. You may **NOT** collaborate with classmates or anyone else.\n",
    "8. In short, **your work must be your own**. It really is that simple.\n",
    "\n",
    "Violation of the above rules will result in an immediate academic sanction (*at the very least*, you will receive a 0 on this practicum or an F in the course, depending on severity), and a trip to the Honor Code Council.\n",
    "\n",
    "**By submitting this assignment, you agree to abide by the rules given above.**\n",
    "\n",
    "***\n",
    "\n",
    "**NOTES**: \n",
    "\n",
    "- You may not use late days on the practicums nor can you drop your practicum grades. \n",
    "- If you have a question for us, post it as a **PRIVATE** message on Piazza.  If we decide that the question is appropriate for the entire class, then we will add it to a Practicum clarifications thread.\n",
    "- Do **NOT** load or use any Python packages that are not available in Anaconda 3.6. The practicum is designed to be completed using only the packages in the first given code cell.\n",
    "- Some problems with code may be autograded.  If we provide a function API **do not** change it.  If we do not provide a function API then you're free to structure your code however you like. \n",
    "- Submit only this Jupyter notebook to Canvas.  Do not compress it using tar, rar, zip, etc. \n",
    "- This should go without saying, but... For any question that asks you to calculate something, you **must show all work to receive credit**. Sparse or nonexistent work will receive sparse or nonexistent credit.\n",
    "\n",
    "---\n",
    "**Shortcuts:**  [Problem 1](#p1) | [Problem 2](#p2) | [Bottom](#bot)\n",
    "\n",
    "---"
   ]
  },
  {
   "cell_type": "code",
   "execution_count": 1,
   "metadata": {
    "colab": {
     "base_uri": "https://localhost:8080/"
    },
    "id": "TzKzDHPT8feE",
    "outputId": "31cc9971-f295-443e-ee33-2103965661ec"
   },
   "outputs": [],
   "source": [
    "##Get them stats in here\n",
    "import numpy as np \n",
    "import pandas as pd \n",
    "from scipy import stats\n",
    "import statsmodels.api as sm\n",
    "import matplotlib.pylab as plt \n",
    "from patsy import dmatrices\n",
    "import seaborn as sns\n",
    "import itertools\n",
    "%matplotlib inline"
   ]
  },
  {
   "cell_type": "markdown",
   "metadata": {
    "id": "0UosqPGr8feE"
   },
   "source": [
    "<br>\n",
    "\n",
    "---\n",
    "[Back to top](#top)\n",
    "<a id='p1'></a>\n",
    "\n",
    "## [50 points] Problem 1: What makes a good shuffle?\n",
    "\n",
    "Our goal in this problem is understand something about the statistics of shuffling: what makes a good shuffle?  Can we compare the order of cards in the deck to an original (sorted) order to determine whether or not the deck appears randomized?\n",
    "\n",
    "In all cases in this problem, we can view a deck as having all unique cards: the standard 52-card playing deck could be represented by integer card identifiers $[0, 1, 2, 3, \\dots, 51]$, and a *shuffle* of the deck is a random *permutation* of those 52 indentifiers.\n",
    "\n",
    "In part 1 of this problem, we explore a sample statistic that reduces the order of the cards into a single measurement."
   ]
  },
  {
   "cell_type": "markdown",
   "metadata": {
    "id": "hgJmZcPx8feF"
   },
   "source": [
    "### Problem 1 Part 1: The Statistic\n",
    "** Part 1 A: Implementing the statistic.**\n",
    "\n",
    "The most common *single* statistic used for tracking the randomness of a shuffle is the count of *rising sequences* in that list's indices.  A rising sequence is a sequence of cards that appear in the same order that they did in the original deck, even if some other cards are in between.  For example, if the deck is represented by integers 0-10, card '1' will be part of the same rising sequence as card '0' as long as '1' occurs after '0' in the shuffled deck.  '2' would be part of the same sequence as long as it is after '1'.\n",
    "\n",
    "A visualization of counting these can be found on page 2 [of this paper](https://statweb.stanford.edu/~cgates/PERSI/papers/bayer92.pdf).  **Look over the images in the paper before proceeding.**\n",
    "\n",
    "\n",
    "\n",
    "Implement the `rising_seqs` function that takes in a list of integers and returns the number of rising sequences of that list.\n",
    "\n",
    "Overview of the function:\n",
    "- Find the indices for the permutation of deck that *would* represent a perfect sort of the deck.   Check `np.argsort` for a quick way to do this.  For example, the deck [3,0,2,1] has sorted permutation of [1,3,2,0], since we find the value 0 in index 1, then the value 1 in index 3, and so forth.\n",
    "- Count the number of times that the indices in this permutation decrease; e.g. the number of times that index $i$ has a value *more* than index $i+1$.  This represents a location where in the **shuffled** deck, a rising sequence would have been broken or ended, requiring us to start a new sequence.  The total count of rising sequences is 1 plus this value.\n",
    "- Return the number of rising sequences.\n",
    "- You may assume the deck's values are all integers and begin at 0, although neither assumption should be necessary.\n",
    "\n"
   ]
  },
  {
   "cell_type": "code",
   "execution_count": null,
   "metadata": {
    "id": "BrWA1Li48feF"
   },
   "outputs": [],
   "source": [
    "def rising_seqs(deck):\n",
    "    #your code here\n",
    "    op=np.argsort(deck)\n",
    "    drops=1\n",
    "    for i in range(0,len(op)-1):\n",
    "      if op[i+1]<op[i]:\n",
    "        drops+=1\n",
    "    return drops"
   ]
  },
  {
   "cell_type": "code",
   "execution_count": null,
   "metadata": {
    "colab": {
     "base_uri": "https://localhost:8080/"
    },
    "id": "Xq_Sd_Pv-U4H",
    "outputId": "d5df9087-edfc-4967-8b4d-85ff4d69100f"
   },
   "outputs": [
    {
     "data": {
      "text/plain": [
       "3"
      ]
     },
     "execution_count": 3,
     "metadata": {
      "tags": []
     },
     "output_type": "execute_result"
    }
   ],
   "source": [
    "rising_seqs(np.array([3,0,2,1]))"
   ]
  },
  {
   "cell_type": "markdown",
   "metadata": {
    "id": "bOfeGNjP8feF"
   },
   "source": [
    "** Part 1 B: Trying out the statistic.**\n",
    "\n",
    "Try out your statistic on a few quick test cases to make sure it's working.\n",
    "\n",
    "Some examples to sanity check your function.\n",
    "- [0,1,2,3,4,5,6,7] has only one rising sequence.\n",
    "- [7,6,5,4,3,2,1,0] has 8 rising sequences: each term is its own.\n",
    "- [3,1,2,0] has 3 rising sequence: [0], [1,2], [3].\n",
    "- [0,2,3,5,1,4,7,6] has the 4 rising sequences of [0,1], [2,3,4], [5,6], and [7].\n",
    "\n"
   ]
  },
  {
   "cell_type": "code",
   "execution_count": null,
   "metadata": {
    "id": "6VutekAd8feG"
   },
   "outputs": [],
   "source": [
    "test1=rising_seqs(np.array([0, 1, 2, 3, 4, 5, 6, 7]))\n",
    "assert test1 == 1, 'Failed check 1'\n",
    "\n",
    "test2=rising_seqs(np.array([7,6,5,4,3,2,1,0]))\n",
    "assert test2 == 8, 'Failed check 2'\n",
    "\n",
    "test3=rising_seqs(np.array([3,1,2,0]))\n",
    "assert test3 == 3, 'Failed check 3'\n",
    "\n",
    "test4=rising_seqs(np.array([0,2,3,5,1,4,7,6]))\n",
    "assert test4 == 4, 'Failed check 4'"
   ]
  },
  {
   "cell_type": "markdown",
   "metadata": {
    "id": "eEZ8Zg2b8feG"
   },
   "source": [
    "** Part 1 C: Bootstrapping.**\n",
    "\n",
    "What represents a well shuffled deck?  Take a 52-card deck (or the integer list $[0,1,2,\\dots ,51]$) and use np.random.shuffle or np.random.permutation to generate 10000 random permutations.  For each, compute and save their counts of rising sequences.\n",
    "\n",
    "Make a histogram of those rising sequences and print out the mean, 2.5\\% percentile and 97.5\\% percentile.\n",
    "\n"
   ]
  },
  {
   "cell_type": "code",
   "execution_count": null,
   "metadata": {
    "id": "aAMNVQXGBJNg"
   },
   "outputs": [],
   "source": [
    "ans_hist=[]\n",
    "for i in range(0,1000):\n",
    "  ans_hist.append(rising_seqs(np.random.permutation(52)))"
   ]
  },
  {
   "cell_type": "code",
   "execution_count": null,
   "metadata": {
    "id": "M8UA41a9BeXK"
   },
   "outputs": [],
   "source": [
    "import matplotlib.pyplot as plt"
   ]
  },
  {
   "cell_type": "code",
   "execution_count": null,
   "metadata": {
    "colab": {
     "base_uri": "https://localhost:8080/",
     "height": 315
    },
    "id": "kQWkq56tAXiT",
    "outputId": "adb1abbf-35b0-4218-e9b1-ed37ad198da2"
   },
   "outputs": [
    {
     "data": {
      "text/plain": [
       "(array([  7.,  18.,  54., 239., 172., 199., 253.,  39.,  16.,   3.]),\n",
       " array([20. , 21.3, 22.6, 23.9, 25.2, 26.5, 27.8, 29.1, 30.4, 31.7, 33. ]),\n",
       " <a list of 10 Patch objects>)"
      ]
     },
     "execution_count": 7,
     "metadata": {
      "tags": []
     },
     "output_type": "execute_result"
    },
    {
     "data": {
      "image/png": "[encoded data removed]",
      "text/plain": [
       "<Figure size 432x288 with 1 Axes>"
      ]
     },
     "metadata": {
      "needs_background": "light",
      "tags": []
     },
     "output_type": "display_data"
    }
   ],
   "source": [
    "plt.hist(ans_hist)"
   ]
  },
  {
   "cell_type": "markdown",
   "metadata": {
    "id": "ebMt27Si8feH"
   },
   "source": [
    "** Part 1 D: The Bootstrapped test.**\n",
    "    \n",
    "We wish to test the null hypothesis \"the deck is well-shuffled\" against the alternative \"the deck is not well-shuffled,\" using the *test statistic* of rising sequences.  In plain English, what is the *rejection rejection* of such a test?  When would we decide that a given ordering is not a good shuffle?  Use a 95% significance, as suggested by the interval in part 1C."
   ]
  },
  {
   "cell_type": "markdown",
   "metadata": {
    "id": "V-LlKJKh8feH"
   },
   "source": [
    "The given ordering is not good shuffle when it is non-uniform distribution of cards "
   ]
  },
  {
   "cell_type": "markdown",
   "metadata": {
    "id": "ddlkIbNn8feH"
   },
   "source": [
    "### Problem 1 Part 2: How to Shuffle\n",
    "\n",
    "A \"perfect riffle\" shuffle is a shuffle in which a deck is divided exactly in half, and then a new deck order is formed by alternating one-card-at-a-time from each half.  Depending on whether or not the top or first card of the interleaving came from the top half of the deck or the bottom half of the deck this is called an *out-shuffle* or *in-shuffle*, respectively.\n",
    "\n",
    "** Part 2 A: The out-shuffle.**\n",
    "\n",
    "Write a function that performs a perfect out-shuffle of a deck.  This function should take an ordered list of length $n$ and:\n",
    "\n",
    "- breaks the deck in half, with the \"top\" of the deck being the first $n/2$ elements and the \"bottom\" of the deck being the last $n/2$ elements.\n",
    "- creates a new ordered list generated by interweaving one card from the top pile, *then* one card from the \"bottom\" pile, etc.  The top/first card comes from the \"top\" elements and the bottom/last card comes from the \"bottom\" pile.\n",
    "\n",
    "You may for convenience assume that there are an even number of cards in the deck.\n",
    "\n",
    "(Note and sanity check: a perfect out-shuffle on a deck with an even number of cards will always have the first card of the input ordering remain the first card of the output ordering, and the input last card remain the last card)\n",
    ".\n",
    "In the suggested API:\n",
    " - deck is a numpy array of integers (or floats) from 0 to (n-1) for a deck of length n.  Consider using np.array(range(n)) if you want to initialize a sorted deck.\n",
    " - Return statement is a numpy array of the same form"
   ]
  },
  {
   "cell_type": "code",
   "execution_count": 61,
   "metadata": {
    "id": "8k_ciK8i8feI"
   },
   "outputs": [],
   "source": [
    "#recommended API for checks:\n",
    "\n",
    "def out_shuffle(deck):\n",
    "    new_deck=[]\n",
    "    divide= len(deck)//2\n",
    "    j=0\n",
    "    k=0\n",
    "    top=deck[:divide]\n",
    "    bottom=deck[divide:]\n",
    "    for i in range(0,len(deck)):\n",
    "        if(i%2==0):\n",
    "          new_deck.append(top[k])\n",
    "          k=k+1\n",
    "        else:\n",
    "          new_deck.append(bottom[j])\n",
    "          j=j+1\n",
    "    #your code here!\n",
    "    return new_deck\n",
    "# out_shuffle(np.array(range(10))) sanity check: should be 0-5-1-6..."
   ]
  },
  {
   "cell_type": "code",
   "execution_count": 62,
   "metadata": {
    "colab": {
     "base_uri": "https://localhost:8080/"
    },
    "id": "9ytzAaFFiV6c",
    "outputId": "a1d8c5b4-0667-4192-99a1-eceddb726d25"
   },
   "outputs": [
    {
     "data": {
      "text/plain": [
       "[0, 5, 1, 6, 2, 7, 3, 8, 4, 9]"
      ]
     },
     "execution_count": 62,
     "metadata": {
      "tags": []
     },
     "output_type": "execute_result"
    }
   ],
   "source": [
    "out_shuffle(np.array(range(10)))"
   ]
  },
  {
   "cell_type": "code",
   "execution_count": null,
   "metadata": {
    "id": "CXxbnL_eiaju"
   },
   "outputs": [],
   "source": [
    "out_shuffle(np.array(range(52)))"
   ]
  },
  {
   "cell_type": "markdown",
   "metadata": {
    "id": "Mjw0jn-98feI"
   },
   "source": [
    "** Part 2 B: Counting out-shuffles.**\n",
    "\n",
    "How much are we supposed to shuffle?  Beginning with a sorted deck $[0,1,2,\\dots ,51]$, perform out-shuffles 52 times *in a row*, where the result of one shuffle is used as the input/start for another.  For each resulting state of the deck, do the following:\n",
    "\n",
    "- save the number of rising sequences in the deck\n",
    "- Perform a formal hypothesis test using the bootstrapped rejection region in part a): at 95\\% confidence would we reject the null hypothesis that \"the deck is well-shuffled?.\"\n",
    "- Compute a two-tailed p-value for the number of rising sequences in the deck.  In other words, what proportion of the time in the simulated `np.random.shuffle` shuffles did we observe a more extreme number of rising sequences?\n",
    "\n",
    "Make a plot with \"number of perfect out shuffles\" on the $x$-axis and \"rising sequences\" for the shuffle on the $y$-axis.  Include a visual indicator for when the number of rising sequences was *inside* or *outside* of the rejection region in part 1.\n",
    "\n",
    "Using this plot make a plain English statment answering the following: \"What is the best number of shuffles to approximately randomize a sorted deck using out-shuffles?  Does it end up well randomized?\"  Explain your answer.\n"
   ]
  },
  {
   "cell_type": "code",
   "execution_count": 72,
   "metadata": {
    "id": "o7vWef7soQkv"
   },
   "outputs": [],
   "source": [
    "from scipy.stats import t"
   ]
  },
  {
   "cell_type": "code",
   "execution_count": 80,
   "metadata": {
    "id": "nDF4Joh98feI"
   },
   "outputs": [],
   "source": [
    "def out_shuffle(deck):\n",
    "  test1=rising_seqs(deck)\n",
    "  mean_results = bs.bootstrap(np.asarray(deck), stat_func=bs_stats.mean)\n",
    "\n",
    "  # see advanced_bootstrap_features.ipynb for a discussion of how to use the stat_func arg\n",
    "  stdev_results = bs.bootstrap(np.asarray(deck), stat_func=bs_stats.std)\n",
    "  print('Rising seq',test1)\n",
    "  print('Mean: ',mean_results,'Std: ',stdev_results)\n",
    "  # Student t-distribution Percent Point Function\n",
    "\n",
    "  # define probability\n",
    "  p = 0.95\n",
    "  df = 10\n",
    "  # retrieve value <= probability\n",
    "  abc_deck = t.ppf(p, deck)\n",
    "  print('P value: ',abc_deck)\n",
    "  # abc_deck=deck\n",
    "  return abc_deck"
   ]
  },
  {
   "cell_type": "code",
   "execution_count": 81,
   "metadata": {
    "colab": {
     "base_uri": "https://localhost:8080/"
    },
    "id": "UY59ZczdmRem",
    "outputId": "525a68c7-8143-4bec-bf3c-797a39955075"
   },
   "outputs": [
    {
     "name": "stdout",
     "output_type": "stream",
     "text": [
      "Rising seq 1\n",
      "Mean:  4.5    (2.7, 6.2) Std:  2.8722813232690143    (2.2288834802886393, 4.00100306912176)\n",
      "P value:  [       nan 6.31375151 2.91998558 2.35336343 2.13184678 2.01504837\n",
      " 1.94318028 1.89457861 1.85954804 1.83311293]\n"
     ]
    },
    {
     "data": {
      "text/plain": [
       "array([       nan, 6.31375151, 2.91998558, 2.35336343, 2.13184678,\n",
       "       2.01504837, 1.94318028, 1.89457861, 1.85954804, 1.83311293])"
      ]
     },
     "execution_count": 81,
     "metadata": {
      "tags": []
     },
     "output_type": "execute_result"
    }
   ],
   "source": [
    "out_shuffle(np.array(range(10)))"
   ]
  },
  {
   "cell_type": "markdown",
   "metadata": {
    "id": "fGD2eCal8feJ"
   },
   "source": [
    "** Part 2 C: In-shuffles.**\n",
    "\n",
    "Repeat parts 2A and 2B for in shuffles.  This means do the following:\n",
    "\n",
    "Write a function that performs a perfect in-shuffle of a deck.  This function should take an ordered list of length $n$ and:\n",
    "\n",
    "- breaks the deck in half, with the \"top\" of the deck being the first $n/2$ elements and the \"bottom\" of the deck being the last $n/2$ elements.\n",
    "- creates a new ordered list generated by interweaving one card from the bottom pile, *then* one card from the \"top\" pile, etc.  The top/first card comes from the \"bottom\" elements and the bottom/last card comes from the \"top\" pile.\n",
    "\n",
    "After this, repeat the plot and hypothesis tests made in part 2B for the in-shuffle.  Again, answer the prompt:  \"What is the best number of shuffles to approximately randomize a sorted deck using in-shuffles?  Does it end up well randomized?\"  Explain your answer.\n",
    "\n",
    "\n"
   ]
  },
  {
   "cell_type": "code",
   "execution_count": 87,
   "metadata": {
    "id": "RgfLcco88feJ"
   },
   "outputs": [],
   "source": [
    "#recommended API for checks:\n",
    "def in_shuffle(deck):\n",
    "    new_deck=[]\n",
    "    divide= len(deck)//2\n",
    "    j=0\n",
    "    k=0\n",
    "    top=deck[:divide]\n",
    "    bottom=deck[divide:]\n",
    "    for i in range(0,len(deck)):\n",
    "        if(i%2==0):\n",
    "          new_deck.append(bottom[j])\n",
    "          j=j+1\n",
    "        else:\n",
    "          new_deck.append(top[k])\n",
    "          k=k+1\n",
    "    #your code here!\n",
    "    return new_deck\n",
    "# in_shuffle(np.array(range(10))) sanity check: should be 5-0-6-1..."
   ]
  },
  {
   "cell_type": "code",
   "execution_count": 91,
   "metadata": {
    "id": "WUg_RQsDpUVp"
   },
   "outputs": [],
   "source": [
    "ans=in_shuffle(np.array(range(10)))"
   ]
  },
  {
   "cell_type": "code",
   "execution_count": null,
   "metadata": {
    "id": "bCcYa9ItpxrT"
   },
   "outputs": [],
   "source": [
    "print(ans)"
   ]
  },
  {
   "cell_type": "code",
   "execution_count": 94,
   "metadata": {
    "colab": {
     "base_uri": "https://localhost:8080/",
     "height": 312
    },
    "id": "rviJQ1_E8feJ",
    "outputId": "5deb6600-3a61-476b-81c1-96db9833e99b"
   },
   "outputs": [
    {
     "data": {
      "text/plain": [
       "Text(0.5, 1.0, 'Card plot')"
      ]
     },
     "execution_count": 94,
     "metadata": {
      "tags": []
     },
     "output_type": "execute_result"
    },
    {
     "data": {
      "image/png": "[encoded data removed]",
      "text/plain": [
       "<Figure size 720x288 with 1 Axes>"
      ]
     },
     "metadata": {
      "needs_background": "light",
      "tags": []
     },
     "output_type": "display_data"
    }
   ],
   "source": [
    "\n",
    "fig, ax = plt.subplots(figsize=(10,4))\n",
    "plt.plot(ans)\n",
    "plt.xlabel('Selection number')\n",
    "plt.ylabel('Card selected')\n",
    "plt.title('Card plot')\n",
    "#make plot"
   ]
  },
  {
   "cell_type": "markdown",
   "metadata": {
    "id": "UxNXWXO68feJ"
   },
   "source": [
    "### Problem 1 Part 3: Noisy Shuffling; Extra Credit\n",
    "** Part 3 A: Random shuffles; Extra Credit**\n",
    "\n",
    "**This part of the problem is for extra credit only.  It is not required.** \n",
    "\n",
    "One result of your analysis above should have been that \"perfect\" shuffles aren't great for getting a random deck - we only approximate randomness and eventually find our way back into the original sort. So how do we shuffle better?  Suppose that we divide our deck in half as we prepare to shuffle, but then *instead* of one-by-one interleaving the two piles, we choose a random number of cards from each pile before we move to the other pile.\n",
    "\n",
    "A variety of ways to describe this exist, but let's try one: Poissons.\n",
    "\n",
    "Create a function `rand_in_shuffle(deck, lambda)` that starts with your code for an in-shuffle.  However, instead of generating the shuffled deck by taking 1 card at a time from the bottom deck, then the top deck, and so forth, take \n",
    "$1+r$ cards from each pile, where $r \\sim Poisson(\\lambda)$ is i.i.d. for each instance you select cards form either pile.  Once you run out of cards in one pile, fill in the rest/bottom of the deck with the remaining cards in the other pile.\n",
    "\n",
    "Note that if $\\lambda=0$, this should represent a perfect in-shuffle.  As $\\lambda$ increases (appropriate values will likely be in $(0,2)$), our shuffle will more closely represent how a person actually shuffles.\n",
    "\n",
    "(Implementation hint: you may use the `.pop` function if you convert your deck to a list, but numpy has its own equivalent using `numpy.delete`.)\n",
    "\n",
    "\n"
   ]
  },
  {
   "cell_type": "code",
   "execution_count": null,
   "metadata": {
    "id": "s4S4eKWv8feJ"
   },
   "outputs": [],
   "source": [
    "#recommended API for checks:\n",
    "def rand_in_shuffle(deck, lam):\n",
    "    return(new_deck)\n",
    "\n",
    "\n",
    "#if lam=0, should be same as a regular in-shuffle\n",
    "# print(rand_in_shuffle(np.array(range(10)), 0))\n",
    "# print(in_shuffle(np.array(range(10))))\n"
   ]
  },
  {
   "cell_type": "markdown",
   "metadata": {
    "id": "vo3zORDf8feK"
   },
   "source": [
    "\n",
    "** Part 3 B: Random shuffle scoring; Extra Credit**\n",
    "\n",
    "**This part of the problem is for extra credit only.  It is not required.** \n",
    "\n",
    "Using `rand_in_shuffle(deck, lambda)`, experiment with different $\\lambda$ values ($\\lambda \\in [0,0.1,0.2,0.3,\\dots 2.9,3.0])$ to attempt to answer the following: If we were going to perform *exactly 6* random in-shuffles, what value of $\\lambda$ on average generates the deck that appears to be shuffled the most?  In other words, is there an amount of randomness that appears to be best in actually randomizing the deck?"
   ]
  },
  {
   "cell_type": "code",
   "execution_count": null,
   "metadata": {
    "id": "PGyBZqhQ8feK"
   },
   "outputs": [],
   "source": []
  },
  {
   "cell_type": "markdown",
   "metadata": {
    "id": "wC7oopEl8feK"
   },
   "source": [
    "<br>\n",
    "\n",
    "---\n",
    "[Back to top](#top)\n",
    "<a id='p2'></a>\n",
    "\n",
    "## [50 points] Problem 2: Multiple Linear Regression\n",
    "\n",
    "Load the data set in `houses`, with an opening snipper below.  The data includes sale prices of 24 houses from a midwetern town in the 1970's.   You are told that you need to quantify how price can be explained and predicted by the feature of the house.\n",
    "\n",
    "The variables available in the data set are labeled as follows:\n",
    "\n",
    "* sales:    the sales price of the house (in 1000s of dollars)\n",
    "* tax: \t    the local taxes\n",
    "* bath: \tthe number of bathrooms\n",
    "* lot: \t    the lot size (1000s of ft)\n",
    "* size: \tthe living space (1000s of ft)\n",
    "* garage: \tnumber of parking spots in the garage\n",
    "* rooms: \tnumber of rooms\n",
    "* bedrooms: number of bedrooms\n",
    "* age: \t    age in years\n",
    "* fire: \tnumber of fireplaces\n"
   ]
  },
  {
   "cell_type": "code",
   "execution_count": null,
   "metadata": {
    "colab": {
     "base_uri": "https://localhost:8080/",
     "height": 204
    },
    "id": "J3QRsusr8feK",
    "outputId": "d894120d-a79b-4ee7-e26d-2f6bf86ab0d1"
   },
   "outputs": [
    {
     "data": {
      "text/html": [
       "<div>\n",
       "<style scoped>\n",
       "    .dataframe tbody tr th:only-of-type {\n",
       "        vertical-align: middle;\n",
       "    }\n",
       "\n",
       "    .dataframe tbody tr th {\n",
       "        vertical-align: top;\n",
       "    }\n",
       "\n",
       "    .dataframe thead th {\n",
       "        text-align: right;\n",
       "    }\n",
       "</style>\n",
       "<table border=\"1\" class=\"dataframe\">\n",
       "  <thead>\n",
       "    <tr style=\"text-align: right;\">\n",
       "      <th></th>\n",
       "      <th>tax</th>\n",
       "      <th>bath</th>\n",
       "      <th>lot</th>\n",
       "      <th>size</th>\n",
       "      <th>garage</th>\n",
       "      <th>rooms</th>\n",
       "      <th>bedrooms</th>\n",
       "      <th>age</th>\n",
       "      <th>fire</th>\n",
       "      <th>sales</th>\n",
       "    </tr>\n",
       "  </thead>\n",
       "  <tbody>\n",
       "    <tr>\n",
       "      <th>0</th>\n",
       "      <td>4.918</td>\n",
       "      <td>1.0</td>\n",
       "      <td>3.472</td>\n",
       "      <td>0.998</td>\n",
       "      <td>1.0</td>\n",
       "      <td>7</td>\n",
       "      <td>4</td>\n",
       "      <td>42</td>\n",
       "      <td>0</td>\n",
       "      <td>25.9</td>\n",
       "    </tr>\n",
       "    <tr>\n",
       "      <th>1</th>\n",
       "      <td>5.021</td>\n",
       "      <td>1.0</td>\n",
       "      <td>3.531</td>\n",
       "      <td>1.500</td>\n",
       "      <td>2.0</td>\n",
       "      <td>7</td>\n",
       "      <td>4</td>\n",
       "      <td>62</td>\n",
       "      <td>0</td>\n",
       "      <td>29.5</td>\n",
       "    </tr>\n",
       "    <tr>\n",
       "      <th>2</th>\n",
       "      <td>4.543</td>\n",
       "      <td>1.0</td>\n",
       "      <td>2.275</td>\n",
       "      <td>1.175</td>\n",
       "      <td>1.0</td>\n",
       "      <td>6</td>\n",
       "      <td>3</td>\n",
       "      <td>40</td>\n",
       "      <td>0</td>\n",
       "      <td>27.9</td>\n",
       "    </tr>\n",
       "    <tr>\n",
       "      <th>3</th>\n",
       "      <td>4.557</td>\n",
       "      <td>1.0</td>\n",
       "      <td>4.050</td>\n",
       "      <td>1.232</td>\n",
       "      <td>1.0</td>\n",
       "      <td>6</td>\n",
       "      <td>3</td>\n",
       "      <td>54</td>\n",
       "      <td>0</td>\n",
       "      <td>25.9</td>\n",
       "    </tr>\n",
       "    <tr>\n",
       "      <th>4</th>\n",
       "      <td>5.060</td>\n",
       "      <td>1.0</td>\n",
       "      <td>4.455</td>\n",
       "      <td>1.121</td>\n",
       "      <td>1.0</td>\n",
       "      <td>6</td>\n",
       "      <td>3</td>\n",
       "      <td>42</td>\n",
       "      <td>0</td>\n",
       "      <td>29.9</td>\n",
       "    </tr>\n",
       "  </tbody>\n",
       "</table>\n",
       "</div>"
      ],
      "text/plain": [
       "     tax  bath    lot   size  garage  rooms  bedrooms  age  fire  sales\n",
       "0  4.918   1.0  3.472  0.998     1.0      7         4   42     0   25.9\n",
       "1  5.021   1.0  3.531  1.500     2.0      7         4   62     0   29.5\n",
       "2  4.543   1.0  2.275  1.175     1.0      6         3   40     0   27.9\n",
       "3  4.557   1.0  4.050  1.232     1.0      6         3   54     0   25.9\n",
       "4  5.060   1.0  4.455  1.121     1.0      6         3   42     0   29.9"
      ]
     },
     "execution_count": 28,
     "metadata": {
      "tags": []
     },
     "output_type": "execute_result"
    }
   ],
   "source": [
    "df=pd.read_csv('/content/houses.txt', delimiter = \"\\t\")\n",
    "df.columns=['tax','bath','lot','size','garage','rooms','bedrooms','age','fire','sales']\n",
    "df.head()\n"
   ]
  },
  {
   "cell_type": "markdown",
   "metadata": {
    "id": "oXF8zLj68feL"
   },
   "source": [
    "### Problem 2 Part 1: Fit your own model\n",
    "** Part 1 A: Explore**\n",
    "\n",
    "Make pairwise scatter plots of the continuous predictors/covariates, both against each other and against the outcome (expenditures).   Does the relationship between the independent variables and the dependent variables appear to be linear?  Do there appear to be independent variables that are collinear?"
   ]
  },
  {
   "cell_type": "code",
   "execution_count": null,
   "metadata": {
    "colab": {
     "base_uri": "https://localhost:8080/",
     "height": 279
    },
    "id": "tuSRiELe8feL",
    "outputId": "dc54745b-a001-442c-839f-e50561400250"
   },
   "outputs": [
    {
     "data": {
      "image/png": "[encoded data removed]",
      "text/plain": [
       "<Figure size 432x288 with 1 Axes>"
      ]
     },
     "metadata": {
      "tags": []
     },
     "output_type": "display_data"
    }
   ],
   "source": [
    "ax1 = df.plot.scatter(x=df.columns[0],\n",
    "                      y='sales',\n",
    "                      c='DarkBlue')"
   ]
  },
  {
   "cell_type": "code",
   "execution_count": null,
   "metadata": {
    "colab": {
     "base_uri": "https://localhost:8080/",
     "height": 279
    },
    "id": "k6oGltl7D_G0",
    "outputId": "aeccc136-a0f9-41be-a352-c1b8f031a022"
   },
   "outputs": [
    {
     "data": {
      "image/png": "[encoded data removed]",
      "text/plain": [
       "<Figure size 432x288 with 1 Axes>"
      ]
     },
     "metadata": {
      "tags": []
     },
     "output_type": "display_data"
    }
   ],
   "source": [
    "ax1 = df.plot.scatter(x=df.columns[1],\n",
    "                      y=df.columns[-1],\n",
    "                      c='DarkBlue')"
   ]
  },
  {
   "cell_type": "code",
   "execution_count": null,
   "metadata": {
    "colab": {
     "base_uri": "https://localhost:8080/",
     "height": 279
    },
    "id": "0lpDIlB0EF6o",
    "outputId": "904456d4-20b4-4b60-f3ee-af640991bb98"
   },
   "outputs": [
    {
     "data": {
      "image/png": "[encoded data removed]",
      "text/plain": [
       "<Figure size 432x288 with 1 Axes>"
      ]
     },
     "metadata": {
      "tags": []
     },
     "output_type": "display_data"
    }
   ],
   "source": [
    "ax1 = df.plot.scatter(x=df.columns[2],\n",
    "                      y=df.columns[-1],\n",
    "                      c='DarkBlue')"
   ]
  },
  {
   "cell_type": "code",
   "execution_count": null,
   "metadata": {
    "colab": {
     "base_uri": "https://localhost:8080/",
     "height": 279
    },
    "id": "dldGHWUUEJn_",
    "outputId": "38456f04-57d5-4386-ce39-9bd6a5c1bad5"
   },
   "outputs": [
    {
     "data": {
      "image/png": "[encoded data removed]",
      "text/plain": [
       "<Figure size 432x288 with 1 Axes>"
      ]
     },
     "metadata": {
      "tags": []
     },
     "output_type": "display_data"
    }
   ],
   "source": [
    "ax1 = df.plot.scatter(x=df.columns[3],\n",
    "                      y=df.columns[-1],\n",
    "                      c='DarkBlue')"
   ]
  },
  {
   "cell_type": "code",
   "execution_count": null,
   "metadata": {
    "colab": {
     "base_uri": "https://localhost:8080/",
     "height": 279
    },
    "id": "ZPqgyuxnEeqJ",
    "outputId": "50e8b20c-0947-4b4a-fca8-9832637cd47a"
   },
   "outputs": [
    {
     "data": {
      "image/png": "[encoded data removed]",
      "text/plain": [
       "<Figure size 432x288 with 1 Axes>"
      ]
     },
     "metadata": {
      "tags": []
     },
     "output_type": "display_data"
    }
   ],
   "source": [
    "ax1 = df.plot.scatter(x=df.columns[4],\n",
    "                      y=df.columns[-1],\n",
    "                      c='DarkBlue')"
   ]
  },
  {
   "cell_type": "code",
   "execution_count": null,
   "metadata": {
    "colab": {
     "base_uri": "https://localhost:8080/",
     "height": 279
    },
    "id": "DsSjuIE7EeY3",
    "outputId": "7ed10f69-64f2-4573-bb60-69310596e917"
   },
   "outputs": [
    {
     "data": {
      "image/png": "[encoded data removed]",
      "text/plain": [
       "<Figure size 432x288 with 1 Axes>"
      ]
     },
     "metadata": {
      "tags": []
     },
     "output_type": "display_data"
    }
   ],
   "source": [
    "ax1 = df.plot.scatter(x=df.columns[5],\n",
    "                      y=df.columns[-1],\n",
    "                      c='DarkBlue')"
   ]
  },
  {
   "cell_type": "code",
   "execution_count": null,
   "metadata": {
    "colab": {
     "base_uri": "https://localhost:8080/",
     "height": 279
    },
    "id": "FsAGCFX-EeAr",
    "outputId": "b0ce0c8c-9b0c-47da-8704-8ffe568dbb3e"
   },
   "outputs": [
    {
     "data": {
      "image/png": "[encoded data removed]",
      "text/plain": [
       "<Figure size 432x288 with 1 Axes>"
      ]
     },
     "metadata": {
      "tags": []
     },
     "output_type": "display_data"
    }
   ],
   "source": [
    "ax1 = df.plot.scatter(x=df.columns[6],\n",
    "                      y=df.columns[-1],\n",
    "                      c='DarkBlue')"
   ]
  },
  {
   "cell_type": "code",
   "execution_count": null,
   "metadata": {
    "colab": {
     "base_uri": "https://localhost:8080/",
     "height": 279
    },
    "id": "0-H6j1iBEl9l",
    "outputId": "087c8023-3916-4988-f522-4550fb161c44"
   },
   "outputs": [
    {
     "data": {
      "image/png": "[encoded data removed]",
      "text/plain": [
       "<Figure size 432x288 with 1 Axes>"
      ]
     },
     "metadata": {
      "tags": []
     },
     "output_type": "display_data"
    }
   ],
   "source": [
    "ax1 = df.plot.scatter(x=df.columns[7],\n",
    "                      y=df.columns[-1],\n",
    "                      c='DarkBlue')"
   ]
  },
  {
   "cell_type": "code",
   "execution_count": null,
   "metadata": {
    "colab": {
     "base_uri": "https://localhost:8080/",
     "height": 279
    },
    "id": "LiELvePkEoP5",
    "outputId": "e8649d83-ed21-4157-e825-190aea34c1fc"
   },
   "outputs": [
    {
     "data": {
      "image/png": "[encoded data removed]",
      "text/plain": [
       "<Figure size 432x288 with 1 Axes>"
      ]
     },
     "metadata": {
      "tags": []
     },
     "output_type": "display_data"
    }
   ],
   "source": [
    "ax1 = df.plot.scatter(x=df.columns[8],\n",
    "                      y=df.columns[-1],\n",
    "                      c='DarkBlue')"
   ]
  },
  {
   "cell_type": "markdown",
   "metadata": {
    "id": "LsomB79yEwLU"
   },
   "source": [
    "From above scatter plot we can see that\n",
    "\n",
    "Here useful colums are tax,lot,size and some what age"
   ]
  },
  {
   "cell_type": "markdown",
   "metadata": {
    "id": "Hjyqx_wG8feL"
   },
   "source": [
    "** Part 1 B: Make a Model**\n",
    "\n",
    "After removing any reasonably choices for columns from your work in part 1A, fit a model with the remaining columns.  Print its summary table."
   ]
  },
  {
   "cell_type": "code",
   "execution_count": null,
   "metadata": {
    "id": "hXJM_OCW8feL"
   },
   "outputs": [],
   "source": [
    "X=df[['tax','lot','size','age']]\n",
    "y=df[['sales']]"
   ]
  },
  {
   "cell_type": "code",
   "execution_count": null,
   "metadata": {
    "id": "_bv-sAYpFLhi"
   },
   "outputs": [],
   "source": [
    "from sklearn.linear_model import LinearRegression"
   ]
  },
  {
   "cell_type": "code",
   "execution_count": null,
   "metadata": {
    "id": "Z0lZt16DFbjc"
   },
   "outputs": [],
   "source": [
    "lr = LinearRegression()\n",
    "model=lr.fit(X, y)"
   ]
  },
  {
   "cell_type": "markdown",
   "metadata": {
    "id": "9NmfQvWq8feL"
   },
   "source": [
    "** Part 1 C: Validate your Model**\n",
    "\n",
    "\n",
    "Perform a thorough discussion of the underlying regression assumptions of your model in part 1B.  You should plot a predictor vs. residuals plot for each column and histogram OR qqplot of the overall residuals.  Make sure to also check for non-linearity."
   ]
  },
  {
   "cell_type": "code",
   "execution_count": null,
   "metadata": {
    "colab": {
     "base_uri": "https://localhost:8080/"
    },
    "id": "kKp0hd-V8feL",
    "outputId": "128ff9d4-0597-4fe0-fb91-3fc36b0f22d9"
   },
   "outputs": [
    {
     "data": {
      "text/plain": [
       "0.7774961992343737"
      ]
     },
     "execution_count": 50,
     "metadata": {
      "tags": []
     },
     "output_type": "execute_result"
    }
   ],
   "source": [
    "model.score(X, y)"
   ]
  },
  {
   "cell_type": "code",
   "execution_count": null,
   "metadata": {
    "colab": {
     "base_uri": "https://localhost:8080/",
     "height": 252
    },
    "id": "Uen6GBZlF1_K",
    "outputId": "6cfdd204-2506-4186-e19b-0b225b36cddf"
   },
   "outputs": [
    {
     "data": {
      "image/png": "[encoded data removed]",
      "text/plain": [
       "<Figure size 432x288 with 1 Axes>"
      ]
     },
     "metadata": {
      "tags": []
     },
     "output_type": "display_data"
    }
   ],
   "source": [
    "plt.scatter(X[['age']], y,  color='black')\n",
    "plt.plot(X[['age']], model.predict(X), color='blue', linewidth=3)\n",
    "\n",
    "plt.xticks(())\n",
    "plt.yticks(())\n",
    "plt.xlabel('age')\n",
    "plt.ylabel('sales')\n",
    "\n",
    "plt.show()"
   ]
  },
  {
   "cell_type": "code",
   "execution_count": null,
   "metadata": {
    "id": "iSbZ_YebHb6i"
   },
   "outputs": [],
   "source": [
    "from scipy.interpolate import BSpline,interpolate"
   ]
  },
  {
   "cell_type": "code",
   "execution_count": null,
   "metadata": {
    "colab": {
     "base_uri": "https://localhost:8080/",
     "height": 252
    },
    "id": "-M6cSP4xF19a",
    "outputId": "f12a5c1f-33f2-45dd-84bc-c9ddf8241adf"
   },
   "outputs": [
    {
     "data": {
      "image/png": "[encoded data removed]",
      "text/plain": [
       "<Figure size 432x288 with 1 Axes>"
      ]
     },
     "metadata": {
      "tags": []
     },
     "output_type": "display_data"
    }
   ],
   "source": [
    "plt.scatter(X[['tax']], y,  color='black')\n",
    "plt.plot(X[['tax']], model.predict(X), color='blue', linewidth=3)\n",
    "\n",
    "plt.xticks(())\n",
    "plt.yticks(())\n",
    "plt.xlabel('tax')\n",
    "plt.ylabel('sales')\n",
    "\n",
    "plt.show()"
   ]
  },
  {
   "cell_type": "code",
   "execution_count": null,
   "metadata": {
    "colab": {
     "base_uri": "https://localhost:8080/",
     "height": 262
    },
    "id": "7p79-F5dH116",
    "outputId": "88b4222d-b6a1-4411-e43e-5eb1ab2773c4"
   },
   "outputs": [
    {
     "data": {
      "image/png": "[encoded data removed]",
      "text/plain": [
       "<Figure size 432x288 with 1 Axes>"
      ]
     },
     "metadata": {
      "tags": []
     },
     "output_type": "display_data"
    }
   ],
   "source": [
    "plt.scatter(X[['lot']], y,  color='black')\n",
    "plt.plot(X[['lot']], model.predict(X), color='blue', linewidth=3)\n",
    "\n",
    "plt.xticks(())\n",
    "plt.xlabel('lot')\n",
    "plt.ylabel('sales')\n",
    "plt.yticks(())\n",
    "\n",
    "plt.show()"
   ]
  },
  {
   "cell_type": "code",
   "execution_count": null,
   "metadata": {
    "colab": {
     "base_uri": "https://localhost:8080/",
     "height": 262
    },
    "id": "xXdovtXsILvI",
    "outputId": "d69cce30-4245-4837-9bbb-1be29d099607"
   },
   "outputs": [
    {
     "data": {
      "image/png": "[encoded data removed]",
      "text/plain": [
       "<Figure size 432x288 with 1 Axes>"
      ]
     },
     "metadata": {
      "tags": []
     },
     "output_type": "display_data"
    }
   ],
   "source": [
    "plt.scatter(X[['size']], y,  color='black')\n",
    "plt.plot(X[['size']], model.predict(X), color='blue', linewidth=3)\n",
    "\n",
    "plt.xticks(())\n",
    "plt.xlabel('size')\n",
    "plt.ylabel('sales')\n",
    "plt.yticks(())\n",
    "\n",
    "plt.show()"
   ]
  },
  {
   "cell_type": "markdown",
   "metadata": {
    "id": "tWg3myVc8feL"
   },
   "source": [
    "** Part 1 C: Tune your Model**\n",
    "\n",
    "\n",
    "Based on your work in parts 1B and 1C, **iterate** on your model.  Remove terms or add higher-order polynomials one at a time unless you are satisfied that your model captures the data as well as possible.  Each time you add or subtract a term from your model, you should repeat the steps in parts B and C: a summary table an exploration of assumptions."
   ]
  },
  {
   "cell_type": "markdown",
   "metadata": {
    "id": "a_f0JSEAIUZ2"
   },
   "source": [
    "Only tax is useful data"
   ]
  },
  {
   "cell_type": "code",
   "execution_count": null,
   "metadata": {
    "colab": {
     "background_save": true
    },
    "id": "2uR_krq88feM"
   },
   "outputs": [],
   "source": [
    "X=df[['tax','size','age']]\n",
    "y=df[['sales']]"
   ]
  },
  {
   "cell_type": "code",
   "execution_count": null,
   "metadata": {
    "id": "y7UfU0uFIdco"
   },
   "outputs": [],
   "source": [
    "lr = LinearRegression()\n",
    "model=lr.fit(X, y)"
   ]
  },
  {
   "cell_type": "code",
   "execution_count": null,
   "metadata": {
    "colab": {
     "base_uri": "https://localhost:8080/"
    },
    "id": "1C2LYz8LIePl",
    "outputId": "be5d7aad-5ab8-41a4-dc5f-cb00f8f3713c"
   },
   "outputs": [
    {
     "data": {
      "text/plain": [
       "0.7755307842717838"
      ]
     },
     "execution_count": 90,
     "metadata": {
      "tags": []
     },
     "output_type": "execute_result"
    }
   ],
   "source": [
    "model.score(X,y)"
   ]
  },
  {
   "cell_type": "markdown",
   "metadata": {
    "id": "ZKuxYszl8feM"
   },
   "source": [
    "** Part 1 E: Explain your Model**\n",
    "\n",
    "**Justify** your choices: there are a lot of ways to choose a \"best\" model: we've mentioned e.g. only including significant predictors versus F-tests versus optimizing R-squared.  Explain what terms you chose and why they were appropriate! "
   ]
  },
  {
   "cell_type": "markdown",
   "metadata": {
    "id": "ilZT0xyr8feM"
   },
   "source": [
    "F-test is a ratio of two variances. Variance is the measure of how far the data are scattered from the mean(measure of dispersion). Greater dispersion representted by larger value. "
   ]
  },
  {
   "cell_type": "markdown",
   "metadata": {
    "id": "TIGuMP_N8feM"
   },
   "source": [
    "### Problem 2 Part 2: Let your Computer do it\n",
    "\n",
    "There are many methods to automate the analysis we did in part 1 of this problem.  These methods are never going to be as good as using your own eyes, but your computer is pretty powerful! \n",
    "\n",
    "Use `itertools.combinations` to perform a linear model (with no higher-order terms) on **every possible subset** of the 9 predictor variables to explain `sales`.  Report the one with the highest adjusted R-squared."
   ]
  },
  {
   "cell_type": "code",
   "execution_count": null,
   "metadata": {
    "id": "uahBcTuk8feM",
    "outputId": "572c220b-10af-4afe-b4ee-ec4b37def24b"
   },
   "outputs": [
    {
     "data": {
      "text/plain": [
       "[('A', 'B'), ('A', 'C'), ('B', 'C')]"
      ]
     },
     "execution_count": 8,
     "metadata": {
      "tags": []
     },
     "output_type": "execute_result"
    }
   ],
   "source": [
    "#usage: all the combinations of size 2 of the given list.\n",
    "#your task: modify it to include the columns of the data frame, and ALL possible sizes\n",
    "# then fit a model for each and save/find the best adjusted R-squared\n",
    "\n",
    "list(itertools.combinations(['A','B','C'],2))"
   ]
  },
  {
   "cell_type": "markdown",
   "metadata": {
    "id": "XBjglK9u8feM"
   },
   "source": [
    "Did the resulting model differ from the one you arrived at in part 1?  Why or why not?  Do you prefer yours to the automated process?  (Ideally you do!)"
   ]
  },
  {
   "cell_type": "markdown",
   "metadata": {
    "id": "E7N8zdIj8feM"
   },
   "source": [
    "Yes, it is different from the one I arrived at part 1. I prefer mine to the automated process"
   ]
  },
  {
   "cell_type": "markdown",
   "metadata": {
    "id": "ZsUDBTXV8feN"
   },
   "source": [
    "---\n",
    "[Back to top](#top)\n",
    "<a id='bot'></a>"
   ]
  }
 ],
 "metadata": {
  "colab": {
   "collapsed_sections": [
    "oXF8zLj68feL",
    "TIGuMP_N8feM"
   ],
   "name": "Practicum23022S21-SA-11407-2-1.ipynb",
   "provenance": [],
   "toc_visible": true
  },
  "kernelspec": {
   "display_name": "Python 3",
   "language": "python",
   "name": "python3"
  },
  "language_info": {
   "codemirror_mode": {
    "name": "ipython",
    "version": 3
   },
   "file_extension": ".py",
   "mimetype": "text/x-python",
   "name": "python",
   "nbconvert_exporter": "python",
   "pygments_lexer": "ipython3",
   "version": "3.8.3"
  }
 },
 "nbformat": 4,
 "nbformat_minor": 1
}
